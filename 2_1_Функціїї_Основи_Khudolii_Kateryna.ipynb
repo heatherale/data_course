{
  "nbformat": 4,
  "nbformat_minor": 0,
  "metadata": {
    "colab": {
      "provenance": [],
      "include_colab_link": true
    },
    "kernelspec": {
      "name": "python3",
      "display_name": "Python 3"
    },
    "language_info": {
      "name": "python"
    }
  },
  "cells": [
    {
      "cell_type": "markdown",
      "metadata": {
        "id": "view-in-github",
        "colab_type": "text"
      },
      "source": [
        "<a href=\"https://colab.research.google.com/github/heatherale/data_course/blob/main/2_1_%D0%A4%D1%83%D0%BD%D0%BA%D1%86%D1%96%D1%97%D1%97_%D0%9E%D1%81%D0%BD%D0%BE%D0%B2%D0%B8_Khudolii_Kateryna.ipynb\" target=\"_parent\"><img src=\"https://colab.research.google.com/assets/colab-badge.svg\" alt=\"Open In Colab\"/></a>"
      ]
    },
    {
      "cell_type": "markdown",
      "source": [
        "# Домашнє завдання до теми \"Functions\""
      ],
      "metadata": {
        "id": "QtHabST6Ez_n"
      }
    },
    {
      "cell_type": "markdown",
      "source": [
        "1. Напишіть фукнцію `print_message`, яка виводить на екран \"Я програмую на Python💪\" і викличіть цю фукнцію 5 разів (найкраще це зробити в циклі).\n",
        "\n",
        "  **Увага**: фукнція має робити чітко лише зазначений функціонал. Наявність додаткового функціоналу і аргументів, які не потрібні для виконання безпосередньо завдання, буде вважатись помилкою."
      ],
      "metadata": {
        "id": "6pg_NzFq5_kO"
      }
    },
    {
      "cell_type": "code",
      "source": [
        "def print_message():\n",
        "  print(\"I code in Python!\")\n",
        "\n",
        "for i in range(5):\n",
        "  print_message()"
      ],
      "metadata": {
        "id": "RbXsfwI_D8ql",
        "colab": {
          "base_uri": "https://localhost:8080/"
        },
        "outputId": "2d805828-8956-45de-a581-dc21f4beb155"
      },
      "execution_count": 1,
      "outputs": [
        {
          "output_type": "stream",
          "name": "stdout",
          "text": [
            "I code in Python!\n",
            "I code in Python!\n",
            "I code in Python!\n",
            "I code in Python!\n",
            "I code in Python!\n"
          ]
        }
      ]
    },
    {
      "cell_type": "markdown",
      "source": [
        "2. Напишіть функцію `calculation` яка приймає на вхід 4 аргументи типу int - `a`, `b`, `c`, `d` і вертає результат обчислення такої формули: $ (a + b - c) * d $.\n",
        "\n",
        "  Викличте функцію на наступному наборі аргументів і виведіть результат на екран:\n",
        "  ```\n",
        "  a = 16\n",
        "  b = 4\n",
        "  c = 9\n",
        "  d = 3\n",
        "  ```"
      ],
      "metadata": {
        "id": "oyRpWRXWBL9N"
      }
    },
    {
      "cell_type": "code",
      "source": [
        "def calculation(a, b, c, d):\n",
        "  return (a+b-c)*d\n",
        "\n",
        "a = 16\n",
        "b = 4\n",
        "c = 9\n",
        "d = 3\n",
        "\n",
        "calculation(a,b,c,d)\n"
      ],
      "metadata": {
        "id": "Ggt2tx6kD-LS",
        "colab": {
          "base_uri": "https://localhost:8080/"
        },
        "outputId": "861d8f46-e0c0-4c98-ed90-09e38085dd36"
      },
      "execution_count": 2,
      "outputs": [
        {
          "output_type": "execute_result",
          "data": {
            "text/plain": [
              "33"
            ]
          },
          "metadata": {},
          "execution_count": 2
        }
      ]
    },
    {
      "cell_type": "markdown",
      "source": [
        "3. Напишіть функцію, яка додає до аргумента 15 і вертає результат додавання. Викличте функцію, передаючи в якості аргументів кожну з наступних змінних по черзі, і виведіть кожного разу результат на екран.\n",
        "```\n",
        "x = 9\n",
        "y = 14\n",
        "z = -19\n",
        "```"
      ],
      "metadata": {
        "id": "5hf1CbllDU_t"
      }
    },
    {
      "cell_type": "code",
      "source": [
        "def plus_fifteen(a):\n",
        "  return a+15\n",
        "\n",
        "x = 9\n",
        "y = 14\n",
        "z = -19\n",
        "\n",
        "print(plus_fifteen(x))\n",
        "print(plus_fifteen(y))\n",
        "print(plus_fifteen(z))"
      ],
      "metadata": {
        "id": "GvEs_nUtD_Cd",
        "colab": {
          "base_uri": "https://localhost:8080/"
        },
        "outputId": "05486f16-e5cf-4e81-b09b-bd1ad0b11089"
      },
      "execution_count": 3,
      "outputs": [
        {
          "output_type": "stream",
          "name": "stdout",
          "text": [
            "24\n",
            "29\n",
            "-4\n"
          ]
        }
      ]
    },
    {
      "cell_type": "markdown",
      "source": [
        "4. Напишіть функцію `multipy_numbers`, яка приймає два числа як аргументи і повертає їх добуток.\n",
        "\n",
        "  Викличіть функцію `multipy_numbers` на парах чисел\n",
        "- 10 і 2\n",
        "- 7 і 8\n",
        "- 1024 і 999.\n",
        "  \n",
        "  Виведіть результат кожного виклику.\n",
        "  При виконанні цього завдання з використанням циклу - отримаєте 2х балів за нього :)"
      ],
      "metadata": {
        "id": "bUuVBhie53uK"
      }
    },
    {
      "cell_type": "code",
      "source": [
        "def multiply_numbers(a,b):\n",
        "  return a*b\n",
        "\n",
        "a = [10,7,1024]\n",
        "b = [2,8,999]\n",
        "\n",
        "for i in range(len(a)):\n",
        "  print(multiply_numbers(a[i],b[i]))"
      ],
      "metadata": {
        "id": "cDqrgZ4YEAKj",
        "colab": {
          "base_uri": "https://localhost:8080/"
        },
        "outputId": "995f0819-3294-4b40-d759-e9f93eabf02b"
      },
      "execution_count": 4,
      "outputs": [
        {
          "output_type": "stream",
          "name": "stdout",
          "text": [
            "20\n",
            "56\n",
            "1022976\n"
          ]
        }
      ]
    },
    {
      "cell_type": "markdown",
      "source": [
        "5. **Ділення з перевіркою типів.**  \n",
        "\n",
        "  1. Напишіть функцію `int_division` яка приймає на вхід два аргументи типу `int` - `a` і `b`, і виконує ділення першого аргумента на другий: `a/b`. При цьому функція перед діленням перевіряє, чи другий аргумент не дорівнює 0. Якщо другий аргумент не 0, фукнція вертає результат ділення, інакше - замість виконання ділення, вертає повідомлення на екран \"Не можу виконати ділення на 0\".\n",
        "\n",
        "    Якщо типи, надані у функцію, не `int` - функція виводить повідомлення \"Не працюю з такими типами даних.\".\n",
        "\n",
        "  2. Запустіть функцію на наступних парах чисел:\n",
        "- 12 і 6\n",
        "- 20 і 0\n",
        "- 112 і 10\n",
        "- 99 і 0\n",
        "- 11 i 1.1\n",
        "\n",
        "    і виведіть на екран повідомлення \"Результат роботи функції: \" - і далі те, що повернула функція.\n",
        "\n",
        "  3. Дайте відповідь на питання: \"Чому в деяких випадках функція повернула None?\""
      ],
      "metadata": {
        "id": "I03t46k27dDZ"
      }
    },
    {
      "cell_type": "code",
      "source": [
        "def int_division(a: int, b:int) -> int:\n",
        "  if type(a) != int or type(b) != int:\n",
        "    print(\"I don't work with those data types\")\n",
        "    return\n",
        "  if b!=0:\n",
        "    return a/b\n",
        "  else:\n",
        "    print(\"I can't divide by 0\")\n",
        "    return\n",
        "\n",
        "a = [12,20,112,99,11]\n",
        "b = [6,0,10,0,1.1]\n",
        "\n",
        "for i in range(len(a)):\n",
        "  print(\"Iteration # \"+str(i+1))\n",
        "  print(int_division(a[i],b[i]))\n",
        "\n",
        "#Функція повертає None у тих випадках, коли типи аргументів не є int або один із аргументів є нулем, тобто коли основна арифметична операція не\n",
        "#була виконана"
      ],
      "metadata": {
        "id": "1-EQhxrAEEAb",
        "colab": {
          "base_uri": "https://localhost:8080/"
        },
        "outputId": "0caaf73d-e451-49a5-e3a0-cc337b2503c3"
      },
      "execution_count": 12,
      "outputs": [
        {
          "output_type": "stream",
          "name": "stdout",
          "text": [
            "Iteration # 1\n",
            "2.0\n",
            "Iteration # 2\n",
            "I can't divide by 0\n",
            "None\n",
            "Iteration # 3\n",
            "11.2\n",
            "Iteration # 4\n",
            "I can't divide by 0\n",
            "None\n",
            "Iteration # 5\n",
            "I don't work with those data types\n",
            "None\n"
          ]
        }
      ]
    },
    {
      "cell_type": "code",
      "source": [],
      "metadata": {
        "id": "bx79GY0l97lT"
      },
      "execution_count": null,
      "outputs": []
    }
  ]
}